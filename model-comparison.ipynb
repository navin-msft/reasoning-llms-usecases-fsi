{
 "cells": [
  {
   "cell_type": "markdown",
   "id": "0b20def1-6b20-439e-a958-a48cef75a8c7",
   "metadata": {
    "id": "FbWoGOis4KoG"
   },
   "source": [
    "# Reasoning usecases : Model comparison o1 vs gpt-4o"
   ]
  },
  {
   "cell_type": "markdown",
   "id": "9d9b3b2f",
   "metadata": {},
   "source": [
    "### Step 1\n",
    "This cell imports necessary libraries, sets environment variables, and initializes the OpenAI client. Provide your GPT-4o and O1 deployment names to the variables GPT_MODEL and O1_MODEL. Makre sure to provide your AZURE_OPENAI_ENDPOINT and AZURE_OPENAI_API_KEY in env file."
   ]
  },
  {
   "cell_type": "code",
   "execution_count": 1,
   "id": "f9ff70b6-24a5-4063-aad8-74ca6f599b9e",
   "metadata": {
    "height": 132
   },
   "outputs": [
    {
     "name": "stdout",
     "output_type": "stream",
     "text": [
      " GPT-4o Model Name for the first time... gpt-4o\n",
      " O1 Model NAme for the first time... o1\n"
     ]
    }
   ],
   "source": [
    "from pydantic import BaseModel, Field\n",
    "from openai import AzureOpenAI\n",
    "import os\n",
    "from dotenv import load_dotenv\n",
    "import json\n",
    "import copy\n",
    "import textwrap\n",
    "import warnings\n",
    "warnings.filterwarnings('ignore')\n",
    "from IPython.display import display, Image, Markdown\n",
    "# Load environment variables\n",
    "load_dotenv(\"./.env\")\n",
    "\n",
    "client = AzureOpenAI(  \n",
    "    api_version=\"2024-12-01-preview\",  \n",
    "    azure_endpoint=os.getenv(\"AZURE_OPENAI_ENDPOINT\"),  \n",
    "    api_key=os.getenv(\"AZURE_OPENAI_API_KEY\")  \n",
    ")  \n",
    "\n",
    "GPT_MODEL = 'gpt-4o'\n",
    "O1_MODEL = 'o1'\n",
    "print(\" GPT-4o Model Name for the first time...\", GPT_MODEL)\n",
    "print(\" O1 Model NAme for the first time...\", O1_MODEL)\n"
   ]
  },
  {
   "cell_type": "markdown",
   "id": "f9fdf285",
   "metadata": {},
   "source": [
    "### Step 2\n",
    "This cell defines the `get_chat_completion` function used to request model responses."
   ]
  },
  {
   "cell_type": "code",
   "execution_count": 2,
   "id": "c7ad01af-c3f9-411d-b190-978f913e07c4",
   "metadata": {
    "height": 234
   },
   "outputs": [],
   "source": [
    "def get_chat_completion(model, prompt):\n",
    "    \"\"\"\n",
    "    Calls the OpenAI API to get a chat completion.\n",
    "\n",
    "    :param model: The model to use for the completion.\n",
    "    :param prompt: The prompt to send to the model.\n",
    "    :return: The completion response from the model.\n",
    "    \"\"\"\n",
    "    response = client.chat.completions.create(\n",
    "        model=model,\n",
    "        messages=[{\"role\": \"user\", \"content\": prompt}],\n",
    "    )\n",
    "    return response.choices[0].message.content"
   ]
  },
  {
   "cell_type": "markdown",
   "id": "36d16a4f",
   "metadata": {},
   "source": [
    "### Step 3\n",
    "This cell holds the multi-line `demo_prompt`. Provide your prompt here or use one of the prompts from the usecases in this repo."
   ]
  },
  {
   "cell_type": "code",
   "execution_count": 20,
   "id": "3fecabdc-9fea-4e71-bf61-ad56c2ee45c2",
   "metadata": {
    "height": 317
   },
   "outputs": [],
   "source": [
    "demo_prompt = \"\"\"\n",
    "\n",
    "\n",
    "# Cross-Asset Volatility and Sentiment Forecasting: A Multi-Modal Analysis\n",
    "\n",
    "## Datasets\n",
    "Below are multiple micro datasets provided in markdown format. They include structured tables, time-series data, and unstructured text meant to help you assess market sentiment, volatility drivers, and macroeconomic conditions. Note that some datasets (marked with *DS*) are included as potential distractions.\n",
    "\n",
    "**Dataset 1: Volatility Indices Data** (Visual: Line Graph)\n",
    "\n",
    "| Date       | VIX (S&P 500) | MOVE (10Y Treasuries) | Implied Volatility - Brent (%) | Implied Volatility - Gold (%) |\n",
    "|------------|---------------|-----------------------|--------------------------------|-------------------------------|\n",
    "| 2023-09-01 | 18.2          | 9.5                   | 22.0                           | 12.5                          |\n",
    "| 2023-09-08 | 19.0          | 10.0                  | 22.5                           | 12.8                          |\n",
    "| 2023-09-15 | 20.1          | 10.2                  | 23.0                           | 13.0                          |\n",
    "| 2023-09-22 | 21.0          | 10.5                  | 23.8                           | 13.5                          |\n",
    "| 2023-09-29 | 20.5          | 10.3                  | 23.2                           | 13.2                          |\n",
    "| 2023-10-06 | 22.0          | 10.7                  | 24.0                           | 13.8                          |\n",
    "| 2023-10-13 | 22.5          | 11.0                  | 24.5                           | 14.0                          |\n",
    "\n",
    "**Dataset 2: Market Sentiment Scores** (Visual: Bar Chart)\n",
    "\n",
    "| Date       | Central Bank Sentiment (1-10) | Financial News Tone (1-10) | Reddit/Twitter Sentiment (1-10) |\n",
    "|------------|-------------------------------|----------------------------|---------------------------------|\n",
    "| 2023-09-01 | 7                             | 6                          | 5                               |\n",
    "| 2023-09-08 | 6                             | 5                          | 4                               |\n",
    "| 2023-09-15 | 5                             | 4                          | 3                               |\n",
    "| 2023-09-22 | 4                             | 3                          | 2                               |\n",
    "| 2023-09-29 | 5                             | 4                          | 3                               |\n",
    "| 2023-10-06 | 6                             | 5                          | 4                               |\n",
    "| 2023-10-13 | 7                             | 6                          | 5                               |\n",
    "\n",
    "**Dataset 3: Macroeconomic Indicators** (Visual: Clustered Bar Chart)\n",
    "\n",
    "| Date       | CPI YoY (%) | PMI | NFP (in thousands) | Unemployment Rate (%) |\n",
    "|------------|-------------|-----|--------------------|-----------------------|\n",
    "| 2023-09-01 | 2.1         | 55  | 150                | 4.0                   |\n",
    "| 2023-09-15 | 2.2         | 54  | 145                | 4.1                   |\n",
    "| 2023-09-29 | 2.3         | 53  | 140                | 4.2                   |\n",
    "| 2023-10-13 | 2.4         | 52  | 135                | 4.3                   |\n",
    "\n",
    "**Dataset 4: Option Term Structure Data** (Visual: Line Graph)\n",
    "\n",
    "| Date       | S&P 500 30d IV (%) | 10Y T-Note 30d IV (%) | Brent 30d IV (%) | Gold 30d IV (%) |\n",
    "|------------|--------------------|-----------------------|------------------|-----------------|\n",
    "| 2023-09-01 | 18.0               | 10.0                  | 22.0             | 12.5            |\n",
    "| 2023-10-01 | 19.5               | 10.5                  | 23.5             | 13.0            |\n",
    "\n",
    "**Dataset 5: News Headlines and Central Bank Statements** (Unstructured Data)\n",
    "\n",
    "- \"Central Bank signals gradual tightening amid global uncertainty.\" (Date: 2023-10-05)\n",
    "- \"Financial news: Equity markets rally despite mixed earnings reports.\" (Date: 2023-10-06)\n",
    "- \"Breaking: New policy measures expected to cushion market headwinds.\" (Date: 2023-10-07)\n",
    "- \"Central Bank statement: 'We maintain cautious optimism despite rising inflation.'\" (Date: 2023-10-08)\n",
    "\n",
    "**Dataset 6: ETF Flows and Institutional Positioning *DS*** (Visual: Bar Chart)\n",
    "\n",
    "| Date       | ETF Flows (USD Millions) | Institutional Net Long (%) |\n",
    "|------------|--------------------------|----------------------------|\n",
    "| 2023-09-01 | 500                      | 55                         |\n",
    "| 2023-09-15 | 450                      | 53                         |\n",
    "| 2023-09-29 | 520                      | 56                         |\n",
    "| 2023-10-13 | 480                      | 54                         |\n",
    "\n",
    "**Dataset 7: Social Media Sentiment Aggregates** (Visual: Scatter Plot)\n",
    "\n",
    "| Date       | Twitter Sentiment Score | Reddit Sentiment Score |\n",
    "|------------|-------------------------|------------------------|\n",
    "| 2023-09-01 | 5.0                     | 4.8                    |\n",
    "| 2023-09-15 | 4.2                     | 4.0                    |\n",
    "| 2023-09-29 | 3.5                     | 3.4                    |\n",
    "| 2023-10-13 | 4.0                     | 3.9                    |\n",
    "\n",
    "**Dataset 8: Commodity Price Indexes** (Visual: Line Graph)\n",
    "\n",
    "| Date       | Brent Crude Spot Price (USD/barrel) | Gold Spot Price (USD/oz) |\n",
    "|------------|-------------------------------------|--------------------------|\n",
    "| 2023-09-01 | 85                                  | 1800                     |\n",
    "| 2023-09-15 | 88                                  | 1780                     |\n",
    "| 2023-09-29 | 90                                  | 1750                     |\n",
    "| 2023-10-13 | 92                                  | 1765                     |\n",
    "\n",
    "**Dataset 9: Historical Asset Returns *DS*** (Visual: Line Charts)\n",
    "\n",
    "| Date Range                 | Asset Class  | Average Daily Return (%) | Volatility (%) |\n",
    "|----------------------------|--------------|--------------------------|----------------|\n",
    "| 2023-07-01 to 2023-09-30   | Equities     | 0.05                     | 1.2            |\n",
    "| 2023-07-01 to 2023-09-30   | Fixed Income | 0.02                     | 0.8            |\n",
    "\n",
    "## Question\n",
    "As a senior strategist at a global macro hedge fund, your objective is to deliver a high-conviction forecast for cross-asset volatility and market sentiment over the next 30 days. Based on the provided datasets, please:\n",
    "\n",
    "1. Classify the current market sentiment regime (e.g., risk-on, risk-off, or transitional) by integrating the sentiment scores from central bank communications, financial news tone, and social media data.\n",
    "2. Forecast the 30-day forward implied and realized volatility for the following asset classes:\n",
    "   - Equities (S&P 500 via VIX dynamics)\n",
    "   - Fixed Income (10Y Treasury via MOVE index)\n",
    "   - Commodities (Brent Crude and Gold)\n",
    "3. Identify and quantify the key drivers (e.g., macroeconomic indicators, option term structures, central bank statements) influencing the forecast and highlight any potential volatility clusters or contagion risks across asset classes.\n",
    "4. Recommend tactical hedging strategies (e.g., VIX calls, long gamma positions, or correlation dispersion trades) based on your forecast.\n",
    "\n",
    "## Instruction\n",
    "Please include all intermediate calculations, working steps, and references to the appropriate datasets as evidence in your analysis. Begin your final answer with a brief executive summary that highlights the key findings and recommendations of your forecast. Be sure to illustrate your thought process and justify your conclusions using both quantitative data and qualitative insights drawn from the datasets.\n",
    "\n",
    "\n",
    "\"\"\""
   ]
  },
  {
   "cell_type": "markdown",
   "id": "6e9ffadd",
   "metadata": {},
   "source": [
    "### Step 4\n",
    "This cell uses the GPT model to generate a response based on the prompt."
   ]
  },
  {
   "cell_type": "code",
   "execution_count": 1,
   "id": "e9ff5752-acb0-4bb1-adb3-58ce2ac1133f",
   "metadata": {
    "height": 30
   },
   "outputs": [
    {
     "ename": "NameError",
     "evalue": "name 'get_chat_completion' is not defined",
     "output_type": "error",
     "traceback": [
      "\u001b[1;31m---------------------------------------------------------------------------\u001b[0m",
      "\u001b[1;31mNameError\u001b[0m                                 Traceback (most recent call last)",
      "Cell \u001b[1;32mIn[1], line 22\u001b[0m\n\u001b[0;32m     19\u001b[0m \tdemo_prompt \u001b[38;5;241m=\u001b[39m demo_prompt\n\u001b[0;32m     21\u001b[0m \u001b[38;5;66;03m# Generate GPT output using the prompt\u001b[39;00m\n\u001b[1;32m---> 22\u001b[0m gpt_output \u001b[38;5;241m=\u001b[39m \u001b[43mget_chat_completion\u001b[49m(GPT_MODEL, demo_prompt)\n",
      "\u001b[1;31mNameError\u001b[0m: name 'get_chat_completion' is not defined"
     ]
    }
   ],
   "source": [
    "# Read the content of the template file and assign it to demo_prompt\n",
    "#template_path = './credit-risk-assessment-and-management/prompt.md'\n",
    "#template_path = './customer-relationship-management/prompt.md'\n",
    "#template_path = './data-analysis/prompt.md'\n",
    "#template_path = './fraud-detection-and-prevention/prompt.md'\n",
    "#template_path = './insurance-claims-processing/prompt.md'\n",
    "#template_path = './insurance-plan/prompt.md'\n",
    "#template_path = './loan-agreement/prompt.md'\n",
    "#template_path = './market-sentiment-and-volatility-forecasting/prompt.md'\n",
    "#template_path = './portfolio-optimization/prompt.md'\n",
    "#template_path = './risk-assessment-for-underwriting-health-auto-life-property/prompt.md'\n",
    "template_path = './underwriting-analysis/prompt.md'\n",
    "\n",
    "try:\n",
    "\twith open(template_path, 'r') as file:\n",
    "\t\tdemo_prompt = file.read()\n",
    "except FileNotFoundError:\n",
    "\tprint(\"Error: The file \", template_path, \" was not found using default demo prompt.\")\n",
    "\tdemo_prompt = demo_prompt\n",
    "\n",
    "# Generate GPT output using the prompt\n",
    "gpt_output = get_chat_completion(GPT_MODEL, demo_prompt)\n"
   ]
  },
  {
   "cell_type": "markdown",
   "id": "e603852e",
   "metadata": {},
   "source": [
    "### Step 5\n",
    "This cell prints the output from the GPT model."
   ]
  },
  {
   "cell_type": "code",
   "execution_count": 26,
   "id": "fa6c37dd-8ec5-4ed7-9cfd-0259867cd4fd",
   "metadata": {
    "height": 30
   },
   "outputs": [
    {
     "name": "stdout",
     "output_type": "stream",
     "text": [
      "### Executive Summary\n",
      "\n",
      "After evaluating John Miller's application for comprehensive auto insurance, it is concluded that he qualifies for standard premium rates with potential for usage-based monitoring. Key factors for this decision include a moderate driving record, manageable accident history, excellent credit, and regular vehicle maintenance. However, continued improvement in driving behavior, as evident from telematics data, could further mitigate risks.\n",
      "\n",
      "### Key Findings and Metrics\n",
      "\n",
      "1. **Driving Record History**\n",
      "   - **Infractions and Points Accumulation**: \n",
      "     - 2017 (Speeding - Minor): 2 points\n",
      "     - 2019 (Red Light Violation): 3 points\n",
      "     - 2021 (Speeding - Minor): 2 points\n",
      "     - Total: 7 points over a 6-year period\n",
      "   \n",
      "   Risk Implication: Despite prior infractions, the completion of a defensive driving course demonstrates a corrective action toward safer driving.\n",
      "\n",
      "2. **Accident & Claim History**\n",
      "   - **Accidents**: \n",
      "     - 2018 (Rear-end collision): $1,200 (Minor)\n",
      "     - 2020 (Side-impact collision): $5,000 (Moderate)\n",
      "     - 2022 (Animal collision): $800 (Minor)\n",
      "    \n",
      "   - **Frequency**: 3 accidents in 5 years.\n",
      "   - **Severity Analysis**: Moderate severity is a concern but not recurrent.\n",
      "\n",
      "   Risk Implication: Claim frequency and severity are within manageable limits, suggesting no pattern of high-risk behavior.\n",
      "\n",
      "3. **Telematics Driving Behavior**\n",
      "   - **Average Monthly Driving Metrics**:\n",
      "     - Average Speed: Consistently around 45-48 mph\n",
      "     - Harsh Braking Events: Peaks at 6 in June\n",
      "     - Rapid Acceleration Events: Peaks at 4 in April\n",
      "\n",
      "   Risk Implication: While harsh events occur, the driver shows overall moderate speed with improved behavior over recent months, verified by smoother driving remarks.\n",
      "\n",
      "4. **Credit History Overview**\n",
      "   - **Credit Score**: 720\n",
      "   - **Debt-to-Income Ratio**: 25% \n",
      "   - **Payment History**: Excellent\n",
      "\n",
      "   Risk Implication: Strong credit profile indicates financial reliability, reducing risk for missed premium payments.\n",
      "\n",
      "5. **Vehicle Maintenance History**\n",
      "   - Regular and preventive maintenance: Brake pad replacements, routine services, and oil changes confirm active vehicle upkeep.\n",
      "\n",
      "   Risk Implication: Well-maintained vehicle reduces mechanical failure risks.\n",
      "\n",
      "### Underwriting Decision\n",
      "\n",
      "- **Standard Premium Rates** apply due to:\n",
      "  - Relatively clean recent driving record with corrective actions and improved driving behavior.\n",
      "  - Financial responsibility implied by exemplary credit history.\n",
      "  - Consistent vehicle maintenance reducing vehicle-related accident risks.\n",
      "\n",
      "- **Conditionally Monitoring with Usage-Based Insurance (UBI)**:\n",
      "  - Based on John Miller’s improved telematics data, offering a UBI program could encourage further safe driving and potentially adjust premiums.\n",
      "\n",
      "### Conclusion\n",
      "\n",
      "While past driving and accident records indicate moderate risk, John's proactive measures and improvements, combined with excellent credit and vehicle maintenance, meet underwriting standards for comprehensive coverage. Usage-based monitoring provides an opportunity to further adjust premiums while enhancing transparency and compliance.\n"
     ]
    }
   ],
   "source": [
    "print(gpt_output)"
   ]
  },
  {
   "cell_type": "markdown",
   "id": "2de5f5c9",
   "metadata": {},
   "source": [
    "### Step 6\n",
    "This cell uses the O1 model to generate a response using the same prompt."
   ]
  },
  {
   "cell_type": "code",
   "execution_count": 27,
   "id": "064c42b6-e79e-4172-b2cf-1f7d5f0d0dd2",
   "metadata": {
    "height": 30
   },
   "outputs": [],
   "source": [
    "o1_output = get_chat_completion(O1_MODEL, demo_prompt)"
   ]
  },
  {
   "cell_type": "markdown",
   "id": "76ac617d",
   "metadata": {},
   "source": [
    "### Step 7\n",
    "This cell prints the output from the O1 model."
   ]
  },
  {
   "cell_type": "code",
   "execution_count": 28,
   "id": "bfa04398-ccf6-4f98-b343-b9987d145e9b",
   "metadata": {
    "height": 30
   },
   "outputs": [
    {
     "name": "stdout",
     "output_type": "stream",
     "text": [
      "# Executive Summary\n",
      "\n",
      "John Miller's auto insurance application has been evaluated using comprehensive data sets, assessing his driving history, accident claims, telematics insights, creditworthiness, and vehicle maintenance records. Upon reviewing these metrics, it is evident that while John maintains a decent credit score and satisfactory vehicle maintenance, his driving history and telematics data suggest a moderate risk profile.\n",
      "\n",
      "## Key Findings\n",
      "\n",
      "- **Driving History:** John has a history of infractions, but they are dispersed over time and appear to have decreased recently after completing a defensive driving course.\n",
      "- **Accident and Claim Records:** He has had one moderate accident in 2020 and two minor collisions, which could indicate some risk but not excessively high.\n",
      "- **Telematics Driving Behavior:** Monthly telematics data generally shows stability, with occasional spikes in harsh braking, raising a slight concern.\n",
      "- **Credit History:** A strong credit score of 720 with an excellent payment history suggests financial reliability.\n",
      "- **Vehicle Maintenance History:** Logs indicate regular upkeep with no significant issues, indicative of responsible vehicle ownership.\n",
      "\n",
      "Based on the aggregated data and inherent risks, John Miller qualifies for comprehensive auto insurance coverage. However, his profile suggests he should be considered for standard premium rates with the potential inclusion of a usage-based insurance (UBI) add-on to continuously monitor his driving behavior and potentially adjust premiums based on real-time data.\n",
      "\n",
      "# Detailed Analysis\n",
      "\n",
      "## Driving History Evaluation\n",
      "\n",
      "1. **Infraction Assessment:**\n",
      "   - Speeding (minor) on 2017-09-10 and 2021-11-05, with a Red Light Violation on 2019-03-22.\n",
      "   - Total Infraction Points: 7\n",
      "   - Although the infractions are spread over 6 years, they suggest occasional behavioral risks.\n",
      "\n",
      "2. **Defensive Driving Course:**\n",
      "   - Completed after 2019 violation, aligns with reduced infractions noted in the agent's call transcript.\n",
      "\n",
      "## Accident & Claim History\n",
      "\n",
      "1. **Accident Frequency:** Three accidents over approximately five years:\n",
      "   - Minor collisions in 2018 and 2022.\n",
      "   - A moderate side-impact collision in 2020, resulting in a higher claim amount.\n",
      "   - Frequency: 0.6 accidents per year (3 incidents/5 years).\n",
      "\n",
      "2. **Severity Analysis:**\n",
      "   - Only one moderate severity accident, not highly frequent but notable for consideration.\n",
      "\n",
      "## Telematics Driving Behavior\n",
      "\n",
      "1. **Metrics Review:** Data from the past six months reflects:\n",
      "   - Average speed around 45-48 mph.\n",
      "   - Harsh braking events averaged at 3.83 per month.\n",
      "   - Rapid acceleration events averaged at 2.83 per month.\n",
      "   - Some months have higher occurrences, suggesting intermittent risky driving behavior.\n",
      "\n",
      "2. **Potential Implication:** Suggests monitoring through a UBI program to encourage safe driving habits and validate ongoing cautious driving claims.\n",
      "\n",
      "## Credit History Overview\n",
      "\n",
      "1. **Credit Score and Financial Metrics:**\n",
      "   - Credit Score: 720, indicating a strong financial standing.\n",
      "   - Debt-to-Income Ratio: 25%, suggesting manageable debt levels.\n",
      "   - Payment History: Excellent, supporting financial responsibility.\n",
      "\n",
      "## Vehicle Maintenance Insights\n",
      "\n",
      "1. **Log Evaluation:**\n",
      "   - Regular and comprehensive maintenance history, including routine services and checks.\n",
      "   - No major mechanical issues noted, suggesting low operational risk due to vehicle condition.\n",
      "\n",
      "# Decision & Recommendations\n",
      "\n",
      "- **Underwriting Decision:** Offer comprehensive coverage at standard rates, with the inclusion of UBI monitoring, providing flexibility for premium adjustments based on future driving behavior improvements.\n",
      "- **Conditions:** Recommend periodic review of telematics data to assess any developments in driving patterns, and possibly re-evaluate in one year if telematics reports no significant issues or improvements.\n",
      "\n",
      "Each dataset has been essential to forming this comprehensive risk profile, ultimately determining that while John Miller is not a completely low-risk client, his proactive steps towards improvement and strong financial ethics justify a standard premium with some monitoring provisions.\n"
     ]
    }
   ],
   "source": [
    "print(o1_output)"
   ]
  },
  {
   "cell_type": "markdown",
   "id": "ad7d587e",
   "metadata": {},
   "source": [
    "### Step 8\n",
    "This cell evaluates and compares both model outputs using a specialized prompt."
   ]
  },
  {
   "cell_type": "code",
   "execution_count": 29,
   "id": "8c65bf0c",
   "metadata": {},
   "outputs": [
    {
     "data": {
      "text/markdown": [
       "### Evaluation of Model Outputs\n",
       "\n",
       "#### **Answer 1 (O1):**\n",
       "\n",
       "**Clarity:**  \n",
       "- **Strengths:** Well-structured and organized, clearly separating each section (Executive Summary, Key Findings, Detailed Analysis, Decision & Recommendations).\n",
       "- **Weaknesses:** Some parts, such as the list of infractions and accidents, could benefit from further synthesis rather than just listing facts.\n",
       "\n",
       "**Accuracy & Correctness:**  \n",
       "- **Strengths:** Correctly interprets data points (e.g., credit score, driving infractions, accident frequency).\n",
       "- **Weaknesses:** Describes John's telematics data as having \"occasional spikes in harsh braking\" without delving into specific consequences or comparing it to baseline figures.\n",
       "\n",
       "**Completeness:**  \n",
       "- **Strengths:** Addresses all parts of the prompt, including driving, credit, and vehicle maintenance, while making relevant recommendations.\n",
       "- **Weaknesses:** Briefly touches on dataset interdependencies; could more thoroughly integrate dataset insights, especially the telematics data's potential bearing on future behavior.\n",
       "\n",
       "**Relevance & Adherence:**  \n",
       "- **Strengths:** Sticks to the task with a compliance focus, ensuring all required data points are examined.\n",
       "- **Weaknesses:** Unclear references to certain datasets (like \"monthly telematics data generally shows stability\") may imply room for tighter cross-referencing.\n",
       "\n",
       "**Analytical Depth:**  \n",
       "- **Strengths:** Provides actionable recommendations in the form of UBI, highlighting strengths such as credit responsibility.\n",
       "- **Weaknesses:** Could enhance depth by linking the defensive driving course completion more directly to potential for reduced risk.\n",
       "\n",
       "**Multi-Dataset Synthesis:**  \n",
       "- **Strengths:** Uses multiple datasets, particularly shining in parts like credit and vehicle maintenance.\n",
       "- **Weaknesses:** Lacks in pulling insights from the telematics data, needed for risk mitigation assessments.\n",
       "\n",
       "**Robustness to Ambiguity:**  \n",
       "- **Strengths:** Interprets qualitative insights (e.g., call transcript discussion) adequately.\n",
       "- **Weaknesses:** Slightly superficial treatment of behavioral change over time, missing deeper analysis of interpretive ambiguity.\n",
       "\n",
       "**Format & Usability:**  \n",
       "- **Strengths:** The decision and recommendations are clearly formatted and practical for underwriting teams.\n",
       "- **Weaknesses:** Provides limited personalization or context details that might assist a compliance team in validating decisions.\n",
       "\n",
       "#### **Answer 2 (GPT-4o):**\n",
       "\n",
       "**Clarity:**  \n",
       "- **Strengths:** Concise executive summary with clear justification for decisions. Logical flow with distinct sections.\n",
       "- **Weaknesses:** Could benefit from clearer delineation of findings within sections to aid readability.\n",
       "\n",
       "**Accuracy & Correctness:**  \n",
       "- **Strengths:** Precisely interprets data, such as accident frequency and credit score metrics.\n",
       "- **Weaknesses:** Overly broad in some areas (e.g., just mentions \"improved behaviors\"), slightly under-analyzed dataset interactions.\n",
       "\n",
       "**Completeness:**  \n",
       "- **Strengths:** Thoroughly addresses all required datasets, producing comprehensive insights.\n",
       "- **Weaknesses:** Less direct inclusion of nuanced elements from datasets, like specific month-to-month telematics fluctuations.\n",
       "\n",
       "**Relevance & Adherence:**  \n",
       "- **Strengths:** Maintains strict adherence to prompt requirements, focusing on relevant compliance and underwriting needs.\n",
       "- **Weaknesses:** Somewhat general recommendations may lack specificity for immediate action.\n",
       "\n",
       "**Analytical Depth:**  \n",
       "- **Strengths:** Insightful recommendations, recognizing financial reliability and proposing UBI as a proactive measure.\n",
       "- **Weaknesses:** Further depth regarding relationships between datasets (how improved credit supports responsible driving) could solidify approach.\n",
       "\n",
       "**Multi-Dataset Synthesis:**  \n",
       "- **Strengths:** Integrates data insights (e.g., driving and credit) effectively.\n",
       "- **Weaknesses:** Marginally misses integrating telematics deeply enough to inform ongoing risk analysis.\n",
       "\n",
       "**Robustness to Ambiguity:**  \n",
       "- **Strengths:** Adept at handling and integrating qualitative feedback (e.g., call transcript) into an actionable plan.\n",
       "- **Weaknesses:** Leaves possible improvements in examining the detailed aspects of behavioral evidence within ambiguous telematics data.\n",
       "\n",
       "**Format & Usability:**  \n",
       "- **Strengths:** Provides a well-structured and practical output suited for immediate use in a compliance context.\n",
       "- **Weaknesses:** Minimal issues, though some sections could become more outlined for faster operational uptake.\n",
       "\n",
       "### **Concise Summary**\n",
       "\n",
       "Between the two responses, **Answer 2 (GPT-4o)** stands out as the better response. It provides a more coherent analysis with structured insights and actionable recommendations suitable for an underwriting team. While both responses have strengths in clear explanations and using data to inform decisions, Answer 2 excels in its synthesis of datasets and initial clarity of presentation, better sidelining non-impactful data and focusing on relevant variables to drive compliance-focused underwriting outcomes."
      ],
      "text/plain": [
       "<IPython.core.display.Markdown object>"
      ]
     },
     "metadata": {},
     "output_type": "display_data"
    }
   ],
   "source": [
    "result = get_chat_completion(\n",
    "    O1_MODEL,\n",
    "    f\"\"\"\n",
    "You are a seasoned expert in evaluating and comparing outputs from large language models. You are analyzing responses to a complex analytical reasoning task that tests a model’s ability to:\n",
    "\n",
    "- Interpret and synthesize information from multiple sources\n",
    "- Perform multi-step quantitative reasoning\n",
    "- Generate structured and actionable insights\n",
    "- Present logic transparently and clearly\n",
    "- Cross-reference data or contextual elements\n",
    "- Follow domain-specific best practices\n",
    "\n",
    "Given the question prompt and the two model outputs, evaluate and compare them on the following dimensions:\n",
    "\n",
    "1. **Clarity:** How clear, well-organized, and easy to follow is each response?\n",
    "2. **Accuracy & Correctness:** Are the facts, interpretations, and calculations correct? Is the reasoning sound?\n",
    "3. **Completeness:** Does the answer fully address all parts of the prompt?\n",
    "4. **Relevance & Adherence:** How well does each answer follow the instructions and respond to the task as described?\n",
    "5. **Analytical Depth:** Does the answer show strong reasoning, meaningful insight, and appropriate use of supporting evidence?\n",
    "6. **Multi-Dataset Synthesis:** How well does each model integrate insights from the datasets (e.g., transcripts, checklists, historical data)?\n",
    "7. **Robustness to Ambiguity:** How well does each model handle faint, incomplete, or unclear legal text?\n",
    "8. **Format & Usability:** Which response is more practically useful for a legal, compliance, or due diligence team?\n",
    "\n",
    "\n",
    "For each model’s output:\n",
    "- Provide specific strengths and weaknesses\n",
    "- Reference examples from the text\n",
    "- Highlight any errors, gaps, or standout reasoning\n",
    "\n",
    "Finally, provide a **concise summary** stating which answer is better and why, backed by concrete observations.\n",
    "\n",
    "---\n",
    "\n",
    "**Question Prompt:**  \n",
    "\"{demo_prompt}\"  \n",
    "\n",
    "**Answer 1 (O1):**  \n",
    "{o1_output}  \n",
    "\n",
    "**Answer 2 (GPT-4o):**  \n",
    "{gpt_output}  \n",
    "\"\"\"\n",
    ")\n",
    "display(Markdown(result))\n"
   ]
  }
 ],
 "metadata": {
  "kernelspec": {
   "display_name": ".rovenv",
   "language": "python",
   "name": "python3"
  },
  "language_info": {
   "codemirror_mode": {
    "name": "ipython",
    "version": 3
   },
   "file_extension": ".py",
   "mimetype": "text/x-python",
   "name": "python",
   "nbconvert_exporter": "python",
   "pygments_lexer": "ipython3",
   "version": "3.10.11"
  }
 },
 "nbformat": 4,
 "nbformat_minor": 5
}
